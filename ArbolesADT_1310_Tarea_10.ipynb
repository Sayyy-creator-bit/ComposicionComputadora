{
  "nbformat": 4,
  "nbformat_minor": 0,
  "metadata": {
    "colab": {
      "name": "ArbolesADT_1310/Tarea 10.ipynb",
      "provenance": [],
      "authorship_tag": "ABX9TyMrUwbV8H3AOARUW0ACvcbK",
      "include_colab_link": true
    },
    "kernelspec": {
      "name": "python3",
      "display_name": "Python 3"
    },
    "language_info": {
      "name": "python"
    }
  },
  "cells": [
    {
      "cell_type": "markdown",
      "metadata": {
        "id": "view-in-github",
        "colab_type": "text"
      },
      "source": [
        "<a href=\"https://colab.research.google.com/github/Sayyy-creator-bit/ComposicionComputadora/blob/master/ArbolesADT_1310_Tarea_10.ipynb\" target=\"_parent\"><img src=\"https://colab.research.google.com/assets/colab-badge.svg\" alt=\"Open In Colab\"/></a>"
      ]
    },
    {
      "cell_type": "markdown",
      "metadata": {
        "id": "7n2h9qib9ufJ"
      },
      "source": [
        "#ARBOLES\n",
        "\n",
        "Es un conjunto de nodos, ya sea vacío o que contiene una raíz; esta está conectada por aristas (troncos) a ninguno o más subarboles.\n",
        "\n",
        "- Forma una ·estructura jerárquica·\n",
        "  - Nodo padre\n",
        "  - Nodo hijo\n",
        "\n",
        "- Cada subarbol, por definición también es un árbol.\n",
        "\n",
        "- root = raíz\n",
        "\n",
        "- ADT no lineal\n",
        "\n",
        "- Peso: sumatoria de sus niveles\n",
        "\n",
        "- Altura: niveles \n",
        "\n",
        "- Grado: Número máximo de hijos que puede tener un nodo de un árbol\n"
      ]
    },
    {
      "cell_type": "markdown",
      "metadata": {
        "id": "BK3iCq69_rMG"
      },
      "source": [
        "##ÁRBOL N-ARIO\n",
        "\n",
        "- Su grado es flexible\n",
        "- Se puede utilizar en la administración de sistemas de archivos\n",
        "\n",
        "- Grado 2: def __init__(self, value, left=None, right=None):\n",
        "\n",
        "- Grado 3: def __init__(self, value, left=None, center=None, right=None):"
      ]
    },
    {
      "cell_type": "code",
      "metadata": {
        "id": "XG36n4064RT5"
      },
      "source": [
        "class NodoBinario:\n",
        "    def __init__(self, value, left=None, right=None):\n",
        "        self.data = value\n",
        "        self.left = left\n",
        "        self.right = right\n",
        "\n",
        "class NodoTernario:\n",
        "    def __init__(self, value, left=None, center=None, right=None):\n",
        "        self.data = value\n",
        "        self.left = left\n",
        "        self.center = center\n",
        "        self.right = right\n"
      ],
      "execution_count": 2,
      "outputs": []
    },
    {
      "cell_type": "code",
      "metadata": {
        "colab": {
          "base_uri": "https://localhost:8080/"
        },
        "id": "wHvHsPoAD5Hn",
        "outputId": "c9d46e0f-3d57-4f9b-9126-aa329fd53fc4"
      },
      "source": [
        "#Ejercicio 1\n",
        "arbol1 = NodoBinario(\"R\", NodoBinario(\"C\"), NodoBinario(\"H\"))\n",
        "print(arbol1.right.data)\n",
        "\n",
        "#Ejercicio 2\n",
        "arbol2 = NodoTernario(4, NodoTernario(3,\\\n",
        "        NodoTernario(5, left=NodoTernario(2)),\\\n",
        "        NodoTernario(5), NodoTernario(2)), None, NodoTernario(5))\n",
        "print(arbol2.left.right.data)\n",
        "print(arbol2.left.center.data)\n",
        "print(arbol2.data)\n",
        "\n",
        "print(\"------ Sin la palabra left ------\")\n",
        "ejemplo = arbol2.left.left.left.data\n",
        "print(ejemplo)\n",
        "aux = arbol2\n",
        "while( aux.left != None ):\n",
        "    aux = aux.left\n",
        "print( aux.data )\n",
        "\n",
        "arbol3 = NodoBinario( \"Santi\" , None ,NodoBinario( \"Jesus\" ,NodoBinario( \"Pedro Jr.\" ,None, NodoBinario(\"Pedro Jr\"))))\n",
        "print( arbol3.right.left.right.data)"
      ],
      "execution_count": 3,
      "outputs": [
        {
          "output_type": "stream",
          "name": "stdout",
          "text": [
            "H\n",
            "2\n",
            "5\n",
            "4\n",
            "------ Sin la palabra left ------\n",
            "2\n",
            "2\n",
            "Pedro Jr\n"
          ]
        }
      ]
    },
    {
      "cell_type": "code",
      "metadata": {
        "id": "NNJPdmPL2ccF"
      },
      "source": [
        "class BinaryNode:\n",
        "    def __init__(self, value, left=None, right=None):\n",
        "        self.data = value\n",
        "        self.left = left\n",
        "        self.right = right\n",
        "    \n",
        "class BinarySearchTree:\n",
        "    def __init__(self):\n",
        "        self.root = None\n",
        "    \n",
        "    def insert(self, value):\n",
        "        if self.root == None:\n",
        "            self.root = BinaryNode(value)\n",
        "        else:\n",
        "            self.__insert_nodo(self.root, value)\n",
        "    \n",
        "    def __insert_nodo(self, nodo, value):\n",
        "        if nodo.data == value:\n",
        "            pass\n",
        "        elif value < nodo.data: \n",
        "            #Ir a la izquierda\n",
        "            if nodo.left == None:\n",
        "                nodo.left = BinaryNode(value)\n",
        "            else:\n",
        "                if nodo.right == None:\n",
        "                    nodo.right = BinaryNode(value)\n",
        "    \n",
        "    def transversal(self,formato = \"posorden\"):\n",
        "        if formato == \"posorden\":\n",
        "            self.recorrido_pos(self.root)\n",
        "        elif formato == \"preorden\":\n",
        "            self.recorrido_pre(self.root)\n",
        "        else: \n",
        "            #inorden\n",
        "            self.recorrido_in(self.root)\n",
        "        print()\n",
        "\n",
        "    def recorrido_pos(self, nodo):\n",
        "        if nodo != None:\n",
        "            self.recorrido_pos(nodo.left)\n",
        "            self.recorrido_pos(nodo.right)\n",
        "            print(str(nodo.data), end=\",\")\n",
        "\n",
        "    def recorrido_pre(self, nodo):\n",
        "        if nodo != None:\n",
        "            print(str(nodo.data), end=\",\")\n",
        "            self.recorrido_pre(nodo.left)\n",
        "            self.recorrido_pre(nodo.right)\n",
        "    \n",
        "    def recorrido_in(self, nodo):\n",
        "        if nodo != None:\n",
        "            self.recorrido_in(nodo.left)\n",
        "            print(str(nodo.data), end=\",\")\n",
        "            self.recorrido_in(nodo.right)\n",
        "    \n",
        "    def search(self, value):\n",
        "        if self.root == None:\n",
        "            print(\"El árbol está vacío\")\n",
        "            return None\n",
        "        else:\n",
        "            self.__search(self.root, value)\n",
        "    \n",
        "    def __search(self, nodo, value):\n",
        "        if nodo.data == None:\n",
        "            print(\"El dato no existe en el árbol\")\n",
        "            return None\n",
        "        elif nodo.data == value:\n",
        "            print(\"Encontrado\")\n",
        "            return nodo \n",
        "        elif value < nodo.data:\n",
        "            return self.__buscar(nodo.left, value)\n",
        "        else:\n",
        "            return self.__buscar(nodo.right, value)\n"
      ],
      "execution_count": 4,
      "outputs": []
    },
    {
      "cell_type": "code",
      "metadata": {
        "colab": {
          "base_uri": "https://localhost:8080/"
        },
        "id": "b-ngJ-MJHJZs",
        "outputId": "bf4c8c00-a084-4c37-8738-1bc88783db51"
      },
      "source": [
        "arb1 = BinarySearchTree()\n",
        "arb1.insert(60)\n",
        "arb1.insert(30)\n",
        "arb1.insert(15)\n",
        "arb1.insert(40)\n",
        "arb1.transversal('posorden')\n",
        "arb1.transversal('preorden')\n",
        "arb1.transversal('inorden')"
      ],
      "execution_count": 5,
      "outputs": [
        {
          "output_type": "stream",
          "name": "stdout",
          "text": [
            "30,15,60,\n",
            "60,30,15,\n",
            "30,60,15,\n"
          ]
        }
      ]
    },
    {
      "cell_type": "markdown",
      "metadata": {
        "id": "sc_GrdgNIUDB"
      },
      "source": [
        "#Código del profesor"
      ]
    },
    {
      "cell_type": "code",
      "metadata": {
        "id": "HSr9mWafIYQJ"
      },
      "source": [
        "class BinaryNode:\n",
        "    def __init__( self , value , left=None , right= None ):\n",
        "        self.data = value\n",
        "        self.left = left\n",
        "        self.right = right\n",
        "\n",
        "class BinarySearchTree:\n",
        "    def __init__( self ):\n",
        "        self.root = None\n",
        "    \n",
        "    def insert( self , value ):\n",
        "        if self.root == None:\n",
        "            self.root = BinaryNode( value )\n",
        "        else:\n",
        "            self.__insert_nodo( self.root , value )\n",
        "        \n",
        "    def __insert_nodo(self , nodo , value ):\n",
        "        if nodo.data == value: \n",
        "            pass\n",
        "        elif value < nodo.data:# ir a la izq\n",
        "            if nodo.left == None:\n",
        "                nodo.left = BinaryNode( value )\n",
        "            else:\n",
        "                self.__insert_nodo( nodo.left , value )\n",
        "        else:  # ir a la derecha\n",
        "            if nodo.right == None:\n",
        "                nodo.right = BinaryNode( value )\n",
        "            else:\n",
        "                self.__insert_nodo( nodo.right, value )\n",
        "    \n",
        "    def transversal( self , formato = \"posorden\"):\n",
        "        if formato == \"posorden\":\n",
        "            self.recorrido_pos( self.root )\n",
        "        elif formato == \"preorden\":\n",
        "            self.recorrido_pre(self.root )\n",
        "        else: # inorden\n",
        "            self.recorrido_in( self.root )\n",
        "        print()\n",
        "\n",
        "    def  recorrido_pos( self , nodo ):\n",
        "        if nodo != None:\n",
        "            self.recorrido_pos( nodo.left )\n",
        "            self.recorrido_pos( nodo.right )\n",
        "            print( str(nodo.data) , end=\" , \" )\n",
        "    \n",
        "    def  recorrido_pre( self , nodo ):\n",
        "        if nodo != None:\n",
        "            print( str(nodo.data) , end=\" , \" )\n",
        "            self.recorrido_pre( nodo.left )\n",
        "            self.recorrido_pre( nodo.right )\n",
        "    \n",
        "    def  recorrido_in( self , nodo ):\n",
        "        if nodo != None:\n",
        "            self.recorrido_in( nodo.left )\n",
        "            print( str(nodo.data) , end=\" , \" )\n",
        "            self.recorrido_in( nodo.right ) \n",
        "\n",
        "    def search( self , value ):\n",
        "        if self.root == None:\n",
        "            print(\"El árbol está vacío\")\n",
        "            return None\n",
        "        else:\n",
        "            return self.__search( self.root , value )\n",
        "\n",
        "    def __search( self , nodo , value ):\n",
        "        if nodo == None:\n",
        "            print(\"El dato no existe en el árbol\") \n",
        "            return None\n",
        "        elif nodo.data == value:\n",
        "            print(\"Encontrado\", nodo.data)\n",
        "            return nodo\n",
        "        elif value < nodo.data:\n",
        "            return self.__search( nodo.left , value  )\n",
        "        else:\n",
        "            return self.__search( nodo.right , value  )  \n",
        "    \n",
        "    def remove(self, value):\n",
        "        if self.root == None:\n",
        "            print(\"Árbol vacío\")\n",
        "            return None\n",
        "        else:\n",
        "            return self.__remove(self.root, value)\n",
        "    \n",
        "    def reemplazar(self, nodo):\n",
        "        hoja = nodo.data\n",
        "        while nodo.left != None:\n",
        "            hoja = nodo.left.data\n",
        "            nodo = nodo.left\n",
        "        return hoja\n",
        "    \n",
        "    def __remove(self, nodo, value):\n",
        "        if nodo == None:\n",
        "            print(\"El dato no existe en el árbol\")\n",
        "            return None\n",
        "        elif value < nodo.data:\n",
        "            nodo.left = self.__remove(nodo.left, value)\n",
        "        elif value > nodo.data:\n",
        "            nodo.right = self.__remove(nodo.right, value)\n",
        "        else: \n",
        "            if nodo.left == None:\n",
        "                return nodo.right\n",
        "            elif nodo.right == None:\n",
        "                return nodo.left\n",
        "            nodo.data = self.reemplazar(nodo.right)\n",
        "            nodo.right = self.__remove(nodo.right, nodo.data)\n",
        "        return nodo"
      ],
      "execution_count": 15,
      "outputs": []
    },
    {
      "cell_type": "code",
      "metadata": {
        "colab": {
          "base_uri": "https://localhost:8080/"
        },
        "id": "GCtf3nuSIh4X",
        "outputId": "9c2f709b-774e-4541-959a-707a67212a4b"
      },
      "source": [
        "#30, 15, 45, 12, 17, 50, 55, 35, 2, 1, 80, 60\n",
        "abb = BinarySearchTree()\n",
        "abb.insert(30)\n",
        "abb.insert(15)\n",
        "abb.insert(45)\n",
        "abb.insert(12)\n",
        "abb.insert(17)\n",
        "abb.insert(50)\n",
        "abb.insert(55)\n",
        "abb.insert(35)\n",
        "abb.insert(2)\n",
        "abb.insert(1)\n",
        "abb.insert(80)\n",
        "abb.insert(60)\n",
        "abb.transversal(\"posorden\")\n",
        "abb.transversal(\"preorden\")\n",
        "abb.transversal(\"inorden\")\n",
        "res = abb.search(45)\n",
        "#Imprime referencia de memoria del nodo resultante\n",
        "print(res)\n",
        "#45\n",
        "print(res.data)\n",
        "#35\n",
        "print(res.left.data)\n",
        "\n",
        "##Tarea 10\n",
        "print(\"ejercicios de tarea\")\n",
        "abb.remove(45)\n",
        "abb.remove(2)\n",
        "abb.remove(30)\n",
        "abb.remove(17)\n",
        "abb.remove(80)\n",
        "abb.transversal(\"preorden\")"
      ],
      "execution_count": 18,
      "outputs": [
        {
          "output_type": "stream",
          "name": "stdout",
          "text": [
            "1 , 2 , 12 , 17 , 15 , 35 , 60 , 80 , 55 , 50 , 45 , 30 , \n",
            "30 , 15 , 12 , 2 , 1 , 17 , 45 , 35 , 50 , 55 , 80 , 60 , \n",
            "1 , 2 , 12 , 15 , 17 , 30 , 35 , 45 , 50 , 55 , 60 , 80 , \n",
            "Encontrado 45\n",
            "<__main__.BinaryNode object at 0x7fef3073f890>\n",
            "45\n",
            "35\n",
            "ejercicios de tarea\n",
            "35 , 15 , 12 , 1 , 50 , 55 , 60 , \n"
          ]
        }
      ]
    }
  ]
}